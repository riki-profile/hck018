{
 "cells": [
  {
   "cell_type": "markdown",
   "metadata": {},
   "source": [
    "## Non-Graded Challenge"
   ]
  },
  {
   "cell_type": "markdown",
   "metadata": {},
   "source": [
    "1. Buatlah function `CekGenap()` dimana ketika list angka dimasuukan akan mebgembalikan nilai genap.\n",
    "contoh:\n",
    "- input `CekGenap([1, 2, 3, 4, 5, 6])\n",
    "- output[2, 4, 6]"
   ]
  },
  {
   "cell_type": "code",
   "execution_count": 7,
   "metadata": {},
   "outputs": [
    {
     "name": "stdout",
     "output_type": "stream",
     "text": [
      "Genap\n"
     ]
    }
   ],
   "source": [
    "def CekGenap(bilangan):\n",
    "    modullo = bilangan % 2\n",
    "    if modullo == 0:\n",
    "        print(\"Genap\")\n",
    "    else:\n",
    "        print (\"Ganjil\")\n",
    "\n",
    "CekGenap(188)"
   ]
  },
  {
   "cell_type": "markdown",
   "metadata": {},
   "source": [
    "pembahasan"
   ]
  },
  {
   "cell_type": "code",
   "execution_count": 8,
   "metadata": {},
   "outputs": [],
   "source": [
    "def CekGenap(bilangan):\n",
    "    #bikin list kosong buat jawaban\n",
    "    output = []\n",
    "\n",
    "    #check numbers\n",
    "    for bil in bilangan:\n",
    "\n",
    "        #cek ganjil genap\n",
    "        if bil % 2 == 0:\n",
    "\n",
    "            #tambah ke output\n",
    "            output.append(bil)\n",
    "            \n",
    "    return output"
   ]
  },
  {
   "cell_type": "code",
   "execution_count": 9,
   "metadata": {},
   "outputs": [
    {
     "data": {
      "text/plain": [
       "[2, 4, 6, 8]"
      ]
     },
     "execution_count": 9,
     "metadata": {},
     "output_type": "execute_result"
    }
   ],
   "source": [
    "list_bilangan = [1, 2, 3, 4, 5, 6, 7, 8]\n",
    "CekGenap(list_bilangan)"
   ]
  },
  {
   "cell_type": "markdown",
   "metadata": {},
   "source": [
    "2. Buatlah function `CekVokal()`, dimana mengembalikan jumlah huruf vokal pada sebuah string/kata\n",
    "-input: CekVokal(\"Makan\")\n",
    "-output: 2"
   ]
  },
  {
   "cell_type": "code",
   "execution_count": 20,
   "metadata": {},
   "outputs": [
    {
     "data": {
      "text/plain": [
       "3"
      ]
     },
     "execution_count": 20,
     "metadata": {},
     "output_type": "execute_result"
    }
   ],
   "source": [
    "def CekVokal(kata):\n",
    "    vokal = [\"a\",\"i\",\"u\",\"e\", \"o\"]\n",
    "    output = []\n",
    "    for huruf in kata:\n",
    "        if huruf in vokal:\n",
    "            output.append(huruf)\n",
    "            \n",
    "    jumlah = len(output)\n",
    "    return jumlah\n",
    "\n",
    "CekVokal(\"Makanan\")"
   ]
  },
  {
   "cell_type": "markdown",
   "metadata": {},
   "source": [
    "pembahasan"
   ]
  },
  {
   "cell_type": "code",
   "execution_count": null,
   "metadata": {},
   "outputs": [],
   "source": [
    "def CekVokal(kata):\n",
    "    output = 0\n",
    "    for huruf in kata:\n",
    "        if huruf in 'aiueo':\n",
    "            output += 1\n",
    "    return output"
   ]
  },
  {
   "cell_type": "markdown",
   "metadata": {},
   "source": [
    "3. Buatlah function `LuasSegitiga()`, mengembalikan nilai luas dari sebuah segitiga\n",
    "-input: LuasSegitiga(4 *6)\n",
    "-output: 12"
   ]
  },
  {
   "cell_type": "code",
   "execution_count": 12,
   "metadata": {},
   "outputs": [
    {
     "data": {
      "text/plain": [
       "12.0"
      ]
     },
     "execution_count": 12,
     "metadata": {},
     "output_type": "execute_result"
    }
   ],
   "source": [
    "def LuasSegitiga(alas, tinggi):\n",
    "    luas = (alas * tinggi)* 0.5\n",
    "    return luas\n",
    "\n",
    "LuasSegitiga(4, 6)"
   ]
  },
  {
   "cell_type": "markdown",
   "metadata": {},
   "source": [
    "4. Number of Word. "
   ]
  },
  {
   "cell_type": "code",
   "execution_count": 22,
   "metadata": {},
   "outputs": [
    {
     "data": {
      "text/plain": [
       "3"
      ]
     },
     "execution_count": 22,
     "metadata": {},
     "output_type": "execute_result"
    }
   ],
   "source": [
    "def number_of_word(sentence):\n",
    "    hitung_kata = sentence.split()\n",
    "    jumlah_kata = len(hitung_kata)\n",
    "    return jumlah_kata\n",
    "\n",
    "number_of_word(sentence = \"ching cheng hanzi\")"
   ]
  },
  {
   "cell_type": "markdown",
   "metadata": {},
   "source": [
    "5. Find Multiple"
   ]
  },
  {
   "cell_type": "code",
   "execution_count": null,
   "metadata": {},
   "outputs": [],
   "source": [
    "def find_multiples(start_range, end_range, multiple):\n",
    "    range = []\n",
    "    output = []\n",
    "    if start_range == end_range:\n",
    "        range = []\n",
    "    else:\n",
    "        \n",
    "        while (start_range < end_range + 1):\n",
    "            range.append(start_range)\n",
    "            start_range += 1\n",
    "    for bil in range:\n",
    "        if bil % multiple == 0:\n",
    "            output.append(bil)\n",
    "    return output\n",
    "        \n",
    "        \n",
    "\n",
    "find_multiples(1, 50, 2)\n",
    "\n"
   ]
  },
  {
   "cell_type": "markdown",
   "metadata": {},
   "source": [
    "pembahasan"
   ]
  },
  {
   "cell_type": "code",
   "execution_count": 50,
   "metadata": {},
   "outputs": [
    {
     "data": {
      "text/plain": [
       "[3, 6, 9, 12, 15, 18, 21, 24, 27, 30, 33, 36, 39, 42, 45, 48]"
      ]
     },
     "execution_count": 50,
     "metadata": {},
     "output_type": "execute_result"
    }
   ],
   "source": [
    "def cari_lipat(angka_awal, angka_akhir, kelipatan):\n",
    "    daftar_kelipatan = []\n",
    "    #cek angka\n",
    "    for angka in range(angka_awal, angka_akhir +1):\n",
    "        #cek apakah kelipatan\n",
    "        if angka % kelipatan == 0:\n",
    "            daftar_kelipatan.append(angka)\n",
    "    return daftar_kelipatan\n",
    "\n",
    "cari_lipat(1, 50, 3)"
   ]
  },
  {
   "cell_type": "markdown",
   "metadata": {},
   "source": [
    "ngc2 nomor 3"
   ]
  },
  {
   "cell_type": "code",
   "execution_count": 3,
   "metadata": {},
   "outputs": [
    {
     "data": {
      "text/plain": [
       "{'Adam': 2.5, 'Faiz': 4.0}"
      ]
     },
     "execution_count": 3,
     "metadata": {},
     "output_type": "execute_result"
    }
   ],
   "source": [
    "def grade_converter(convert_to, **students):\n",
    "    for student, grade in students.items():\n",
    "        if grade > 85:\n",
    "            if convert_to == 'gpa':\n",
    "                students[student] = 4.0\n",
    "            else:\n",
    "                students[student] = 'A'\n",
    "        elif grade > 70:\n",
    "            if convert_to == 'gpa':\n",
    "                students[student] = 3.0\n",
    "            else:\n",
    "                students[student] = 'B'\n",
    "        elif grade > 60:\n",
    "            if convert_to == 'gpa':\n",
    "                students[student] = 2.5\n",
    "            else:\n",
    "                students[student] = 'C'\n",
    "        elif grade > 50:\n",
    "            if convert_to == 'gpa':\n",
    "                students[student] = 2.0\n",
    "            else:\n",
    "                students[student] = 'D' \n",
    "        elif grade > 40:\n",
    "            if convert_to == 'gpa':\n",
    "                students[student] = 1.5\n",
    "            else:\n",
    "                students[student] = 'E' \n",
    "        else :\n",
    "            if convert_to == 'gpa':\n",
    "                students[student] = 1.0\n",
    "            else:\n",
    "                students[student] = 'F'       \n",
    "    return students      \n",
    "\n",
    "grade_converter(convert_to='gpa', Adam=62, Faiz=91)    \n",
    "\n"
   ]
  },
  {
   "cell_type": "markdown",
   "metadata": {},
   "source": [
    "ngc nomor 4 fibonacci"
   ]
  },
  {
   "cell_type": "code",
   "execution_count": 4,
   "metadata": {},
   "outputs": [],
   "source": [
    "def cari_fib(n):\n",
    "    #tulis list pertama dan kedua, gabisa di rumusin karena dari sananya\n",
    "    fib_seq =[0, 1]\n",
    "\n",
    "    #kalau udah n>1 baru deh rumus fn = fn-1 + fn-2\n",
    "    if n <= 1:\n",
    "        return fib_seq[n]\n",
    "    else:\n",
    "        for index in range(2, n + 1):\n",
    "            fib_seq.append(fib_seq[index - 1] + fib_seq[index - 2])\n",
    "        return fib_seq[n]\n"
   ]
  },
  {
   "cell_type": "code",
   "execution_count": 5,
   "metadata": {},
   "outputs": [
    {
     "data": {
      "text/plain": [
       "55"
      ]
     },
     "execution_count": 5,
     "metadata": {},
     "output_type": "execute_result"
    }
   ],
   "source": [
    "cari_fib(10)"
   ]
  }
 ],
 "metadata": {
  "kernelspec": {
   "display_name": "base",
   "language": "python",
   "name": "python3"
  },
  "language_info": {
   "codemirror_mode": {
    "name": "ipython",
    "version": 3
   },
   "file_extension": ".py",
   "mimetype": "text/x-python",
   "name": "python",
   "nbconvert_exporter": "python",
   "pygments_lexer": "ipython3",
   "version": "3.11.7"
  }
 },
 "nbformat": 4,
 "nbformat_minor": 2
}
