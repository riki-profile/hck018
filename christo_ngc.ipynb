{
 "cells": [
  {
   "cell_type": "markdown",
   "metadata": {},
   "source": [
    "### Non Graded Challenge"
   ]
  },
  {
   "cell_type": "markdown",
   "metadata": {},
   "source": [
    "1. Buatlah function `CekGenap()` dimana ketika list angka dimasukkan akan mengembalikan nilai genap.\n",
    "   \n",
    "   Contoh:\n",
    "   - Input `CekGenap(1,2,3,4,5,6)`\n",
    "   - Output `[2,4,6]`"
   ]
  },
  {
   "cell_type": "code",
   "execution_count": 32,
   "metadata": {},
   "outputs": [],
   "source": [
    "number=[1,2,3,4,5,6]\n",
    "\n",
    "def cekgenap(angka):\n",
    "    # i = 0\n",
    "    genap = []\n",
    "    for x in number:\n",
    "        if x % 2 == 0:\n",
    "            genap.append(x)\n",
    "    return genap"
   ]
  },
  {
   "cell_type": "code",
   "execution_count": 33,
   "metadata": {},
   "outputs": [
    {
     "data": {
      "text/plain": [
       "[2, 4, 6]"
      ]
     },
     "execution_count": 33,
     "metadata": {},
     "output_type": "execute_result"
    }
   ],
   "source": [
    "cekgenap(number)"
   ]
  },
  {
   "cell_type": "markdown",
   "metadata": {},
   "source": [
    "2. Buatlah function `LuasSegitiga()` mengembalikan nilai luas dari sebuah segitiga\n",
    "   - Input: `LuasSegitiga(4 * 6)`\n",
    "   - Output: 12\n",
    "   \n",
    "3. Buatlah function `CekVokal()` dimana mengembalikan jumlah huruf vokal pada sebuah string/kata\n",
    "   - Input: `CekVokal(\"Makan\")`\n",
    "   - Output: 2"
   ]
  },
  {
   "cell_type": "code",
   "execution_count": 9,
   "metadata": {},
   "outputs": [
    {
     "data": {
      "text/plain": [
       "12.0"
      ]
     },
     "execution_count": 9,
     "metadata": {},
     "output_type": "execute_result"
    }
   ],
   "source": [
    "#2. Function Luas Segitiga\n",
    "\n",
    "def luassegitiga(panjang, tinggi):\n",
    "    luas = (1/2)*panjang*tinggi\n",
    "    return luas\n",
    "\n",
    "luassegitiga(4,6)\n"
   ]
  },
  {
   "cell_type": "code",
   "execution_count": 18,
   "metadata": {},
   "outputs": [
    {
     "name": "stdout",
     "output_type": "stream",
     "text": [
      "5\n",
      "['m', 'a', 'k', 'a', 'n']\n",
      "None\n"
     ]
    }
   ],
   "source": [
    "#3 Function Cek Vokal\n",
    "\n",
    "words = input(\"masukkan kata anda: \")\n",
    "\n",
    "def cekvokal(char):\n",
    "    vokal = ['a','i','u','e','o']\n",
    "\n",
    "    kata = []\n",
    "    kata.extend(char)\n",
    "\n",
    "    for i in kata:\n",
    "        # if not any(i in vokal for i in kata):\n",
    "        #     print(i)\n",
    "        \n",
    "    else:\n",
    "        pass\n",
    "    print(len(char))\n",
    "    print(kata)\n",
    "\n",
    "print(cekvokal(words))"
   ]
  }
 ],
 "metadata": {
  "kernelspec": {
   "display_name": "hacktiv8_python39",
   "language": "python",
   "name": "python3"
  },
  "language_info": {
   "codemirror_mode": {
    "name": "ipython",
    "version": 3
   },
   "file_extension": ".py",
   "mimetype": "text/x-python",
   "name": "python",
   "nbconvert_exporter": "python",
   "pygments_lexer": "ipython3",
   "version": "3.9.19"
  }
 },
 "nbformat": 4,
 "nbformat_minor": 2
}
