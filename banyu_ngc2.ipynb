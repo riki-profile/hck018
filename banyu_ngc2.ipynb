{
 "cells": [
  {
   "cell_type": "markdown",
   "metadata": {},
   "source": [
    "## Non-Graded Challenge 2\n"
   ]
  },
  {
   "cell_type": "markdown",
   "metadata": {},
   "source": [
    "1. Buatlah function `CekGenap` dimana ketika list angka dimasukkan, akan mengembalikan nilai genap.\n",
    "\n",
    "contoh :\n",
    "- input `CekGenap([1,2,3,4,5,6])`\n",
    "- output [2,4,6]"
   ]
  },
  {
   "cell_type": "code",
   "execution_count": 1,
   "metadata": {},
   "outputs": [
    {
     "data": {
      "text/plain": [
       "[2, 4, 6]"
      ]
     },
     "execution_count": 1,
     "metadata": {},
     "output_type": "execute_result"
    }
   ],
   "source": [
    "def CekGenap(list_angka):\n",
    "    output = []    \n",
    "    for angka in list_angka:\n",
    "        if angka % 2 == 0:\n",
    "            output.append(angka)\n",
    "    return output\n",
    "list_angka = [1,2,3,4,5,6]\n",
    "CekGenap(list_angka)\n"
   ]
  },
  {
   "cell_type": "markdown",
   "metadata": {},
   "source": []
  },
  {
   "cell_type": "code",
   "execution_count": 3,
   "metadata": {},
   "outputs": [
    {
     "name": "stdout",
     "output_type": "stream",
     "text": [
      "12\n"
     ]
    }
   ],
   "source": [
    "def segitiga(alas,tinggi):\n",
    "    return alas * tinggi / 2\n",
    "\n",
    "luas = segitiga(4,6)\n",
    "print(int(luas))\n"
   ]
  },
  {
   "cell_type": "markdown",
   "metadata": {},
   "source": [
    "3. Buatlah function `CekVokal()`, dimana mengembalikan jumlah huruf vokal pada sebuah string/kata\n",
    "\n",
    "- input : `Cekvokal`(\"Makan\")\n",
    "- output : 2"
   ]
  },
  {
   "cell_type": "code",
   "execution_count": null,
   "metadata": {},
   "outputs": [],
   "source": [
    "\n",
    "\n"
   ]
  }
 ],
 "metadata": {
  "kernelspec": {
   "display_name": "Python 3.12.3 64-bit",
   "language": "python",
   "name": "python3"
  },
  "language_info": {
   "codemirror_mode": {
    "name": "ipython",
    "version": 3
   },
   "file_extension": ".py",
   "mimetype": "text/x-python",
   "name": "python",
   "nbconvert_exporter": "python",
   "pygments_lexer": "ipython3",
   "version": "3.12.3"
  },
  "orig_nbformat": 4,
  "vscode": {
   "interpreter": {
    "hash": "ebaeeb0b73ac624cfb2d7b872d910c98b39e8901abf53706a7af35a7c94c3387"
   }
  }
 },
 "nbformat": 4,
 "nbformat_minor": 2
}
