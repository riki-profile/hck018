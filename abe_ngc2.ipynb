{
 "cells": [
  {
   "cell_type": "markdown",
   "metadata": {},
   "source": [
    "## Non-Graded Challenge"
   ]
  },
  {
   "cell_type": "markdown",
   "metadata": {},
   "source": [
    "1. Buatlah function `CekGenap()` dimana ketika list angka dimasuukan akan mebgembalikan nilai genap.\n",
    "contoh:\n",
    "- input `CekGenap([1, 2, 3, 4, 5, 6])\n",
    "- output[2, 4, 6]"
   ]
  },
  {
   "cell_type": "code",
   "execution_count": 7,
   "metadata": {},
   "outputs": [
    {
     "name": "stdout",
     "output_type": "stream",
     "text": [
      "Genap\n"
     ]
    }
   ],
   "source": [
    "def CekGenap(bilangan):\n",
    "    modullo = bilangan % 2\n",
    "    if modullo == 0:\n",
    "        print(\"Genap\")\n",
    "    else:\n",
    "        print (\"Ganjil\")\n",
    "\n",
    "CekGenap(188)"
   ]
  },
  {
   "cell_type": "markdown",
   "metadata": {},
   "source": [
    "pembahasan"
   ]
  },
  {
   "cell_type": "code",
   "execution_count": 8,
   "metadata": {},
   "outputs": [],
   "source": [
    "def CekGenap(bilangan):\n",
    "    #bikin list kosong buat jawaban\n",
    "    output = []\n",
    "\n",
    "    #check numbers\n",
    "    for bil in bilangan:\n",
    "\n",
    "        #cek ganjil genap\n",
    "        if bil % 2 == 0:\n",
    "\n",
    "            #tambah ke output\n",
    "            output.append(bil)\n",
    "            \n",
    "    return output"
   ]
  },
  {
   "cell_type": "code",
   "execution_count": 9,
   "metadata": {},
   "outputs": [
    {
     "data": {
      "text/plain": [
       "[2, 4, 6, 8]"
      ]
     },
     "execution_count": 9,
     "metadata": {},
     "output_type": "execute_result"
    }
   ],
   "source": [
    "list_bilangan = [1, 2, 3, 4, 5, 6, 7, 8]\n",
    "CekGenap(list_bilangan)"
   ]
  },
  {
   "cell_type": "markdown",
   "metadata": {},
   "source": [
    "2. Buatlah function `CekVokal()`, dimana mengembalikan jumlah huruf vokal pada sebuah string/kata\n",
    "-input: CekVokal(\"Makan\")\n",
    "-output: 2"
   ]
  },
  {
   "cell_type": "code",
   "execution_count": 20,
   "metadata": {},
   "outputs": [
    {
     "data": {
      "text/plain": [
       "3"
      ]
     },
     "execution_count": 20,
     "metadata": {},
     "output_type": "execute_result"
    }
   ],
   "source": [
    "def CekVokal(kata):\n",
    "    vokal = [\"a\",\"i\",\"u\",\"e\", \"o\"]\n",
    "    output = []\n",
    "    for huruf in kata:\n",
    "        if huruf in vokal:\n",
    "            output.append(huruf)\n",
    "            \n",
    "    jumlah = len(output)\n",
    "    return jumlah\n",
    "\n",
    "CekVokal(\"Makanan\")"
   ]
  },
  {
   "cell_type": "markdown",
   "metadata": {},
   "source": [
    "3. Buatlah function `LuasSegitiga()`, mengembalikan nilai luas dari sebuah segitiga\n",
    "-input: LuasSegitiga(4 *6)\n",
    "-output: 12"
   ]
  },
  {
   "cell_type": "code",
   "execution_count": 12,
   "metadata": {},
   "outputs": [
    {
     "data": {
      "text/plain": [
       "12.0"
      ]
     },
     "execution_count": 12,
     "metadata": {},
     "output_type": "execute_result"
    }
   ],
   "source": [
    "def LuasSegitiga(alas, tinggi):\n",
    "    luas = (alas * tinggi)* 0.5\n",
    "    return luas\n",
    "\n",
    "LuasSegitiga(4, 6)"
   ]
  }
 ],
 "metadata": {
  "kernelspec": {
   "display_name": "base",
   "language": "python",
   "name": "python3"
  },
  "language_info": {
   "codemirror_mode": {
    "name": "ipython",
    "version": 3
   },
   "file_extension": ".py",
   "mimetype": "text/x-python",
   "name": "python",
   "nbconvert_exporter": "python",
   "pygments_lexer": "ipython3",
   "version": "3.11.7"
  }
 },
 "nbformat": 4,
 "nbformat_minor": 2
}
