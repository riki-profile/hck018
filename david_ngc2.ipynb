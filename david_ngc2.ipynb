{
 "cells": [
  {
   "cell_type": "markdown",
   "metadata": {},
   "source": [
    "## Non-Graded Challenge 2 \n",
    "\n",
    "---"
   ]
  },
  {
   "cell_type": "markdown",
   "metadata": {},
   "source": [
    "1. Buatlah function`CekGenap()` dimana ketika angka disamukkan, akan mengambilkan nilai genap.\n",
    "\n",
    "contoh :\n",
    "- input `CekGenap([1,2,3,4,5,6])`\n",
    "- output [2,4,6]"
   ]
  },
  {
   "cell_type": "code",
   "execution_count": 11,
   "metadata": {},
   "outputs": [
    {
     "data": {
      "text/plain": [
       "[2, 4, 6]"
      ]
     },
     "execution_count": 11,
     "metadata": {},
     "output_type": "execute_result"
    }
   ],
   "source": [
    "def CekGenap(list_angka):\n",
    "    #create empty list\n",
    "        output = []\n",
    "\n",
    "    #check numbers\n",
    "        for angka in list_angka:\n",
    "            # Check if even\n",
    "            if angka % 2 == 0:\n",
    "                #Add to output list\n",
    "                output.append(angka)\n",
    "        return output\n",
    "\n",
    "CekGenap([1,2,3,4,5,6])"
   ]
  },
  {
   "cell_type": "markdown",
   "metadata": {},
   "source": [
    "2. Buatlah function `LuasSegitatiga()` , mengembalikan nilai luas dari sebuah segitiga\n",
    "\n",
    "- input:LuasSegitiga(4*6)\n",
    "- outpu: 12"
   ]
  },
  {
   "cell_type": "code",
   "execution_count": 12,
   "metadata": {},
   "outputs": [
    {
     "data": {
      "text/plain": [
       "12.0"
      ]
     },
     "execution_count": 12,
     "metadata": {},
     "output_type": "execute_result"
    }
   ],
   "source": [
    "def LuasSegitiga(x,y):\n",
    "    return (x*y) / 2\n",
    "\n",
    "LuasSegitiga(4,6)"
   ]
  },
  {
   "cell_type": "markdown",
   "metadata": {},
   "source": [
    "3. Buatlah function `CekVokal()` , dimana mengembalikan jumlah huruf vokal pada sebuah string/kata\n",
    "\n",
    "- input:CekVokal(\"Makan\")\n",
    "- outpu: 2"
   ]
  },
  {
   "cell_type": "code",
   "execution_count": 11,
   "metadata": {},
   "outputs": [
    {
     "data": {
      "text/plain": [
       "[]"
      ]
     },
     "execution_count": 11,
     "metadata": {},
     "output_type": "execute_result"
    }
   ],
   "source": [
    "def CekVokal(huruf):\n",
    "    vokal = [\"a\", \"e\", \"i\", \"o\", \"u\"]\n",
    "    number_of_vokals = []\n",
    "\n",
    "    if huruf.split() == vokal:\n",
    "        number_of_vokals.append()\n",
    "    return number_of_vokals\n",
    "\n",
    "           \n",
    "    \n",
    "        \n",
    "CekVokal(\"Makan\")"
   ]
  }
 ],
 "metadata": {
  "kernelspec": {
   "display_name": "base",
   "language": "python",
   "name": "python3"
  },
  "language_info": {
   "codemirror_mode": {
    "name": "ipython",
    "version": 3
   },
   "file_extension": ".py",
   "mimetype": "text/x-python",
   "name": "python",
   "nbconvert_exporter": "python",
   "pygments_lexer": "ipython3",
   "version": "3.11.7"
  }
 },
 "nbformat": 4,
 "nbformat_minor": 2
}
