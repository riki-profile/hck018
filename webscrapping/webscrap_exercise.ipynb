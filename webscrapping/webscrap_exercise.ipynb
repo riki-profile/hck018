{
 "cells": [
  {
   "cell_type": "markdown",
   "metadata": {},
   "source": [
    "# Latihan Webscraping - Bhinneka.com\n",
    "---\n",
    "Kamis, 26 Juni 2024"
   ]
  },
  {
   "cell_type": "markdown",
   "metadata": {},
   "source": [
    "## Import Libraries"
   ]
  },
  {
   "cell_type": "code",
   "execution_count": 8,
   "metadata": {},
   "outputs": [],
   "source": [
    "# Libraries for data manipulation\n",
    "import pandas as pd\n",
    "\n",
    "# Libraries for webscraping\n",
    "from selenium import webdriver\n",
    "from bs4 import BeautifulSoup\n"
   ]
  },
  {
   "cell_type": "code",
   "execution_count": 11,
   "metadata": {},
   "outputs": [],
   "source": [
    "# assign driver\n",
    "driver = webdriver.Chrome()"
   ]
  },
  {
   "cell_type": "code",
   "execution_count": 12,
   "metadata": {},
   "outputs": [],
   "source": [
    "# access website\n",
    "driver.get('https://www.bhinneka.com/jual?page=1&cari=laptop&order=')"
   ]
  },
  {
   "cell_type": "code",
   "execution_count": 13,
   "metadata": {},
   "outputs": [],
   "source": [
    "# get element\n",
    "html = driver.page_source\n",
    "\n",
    "# parse the html\n",
    "soup = BeautifulSoup(html, 'html.parser')"
   ]
  },
  {
   "cell_type": "markdown",
   "metadata": {},
   "source": [
    "## Element Exploration"
   ]
  },
  {
   "cell_type": "markdown",
   "metadata": {},
   "source": [
    "### Product Name"
   ]
  },
  {
   "cell_type": "markdown",
   "metadata": {},
   "source": [
    "```html\n",
    "<a class=\"text-primary text-decoration-none\" itemprop=\"name\" href=\"/sitstand-laptop-stand-alumunium-premium-portable-lap05-sku3340917845\" content=\"SitStand Laptop Stand Alumunium Premium Portable LAP05\">SitStand Laptop Stand Alumunium Premium Portable LAP05</a>```"
   ]
  },
  {
   "cell_type": "code",
   "execution_count": 16,
   "metadata": {},
   "outputs": [
    {
     "data": {
      "text/plain": [
       "'ORICO Notebook Laptop Holder Bracket LST-4A'"
      ]
     },
     "execution_count": 16,
     "metadata": {},
     "output_type": "execute_result"
    }
   ],
   "source": [
    "product_name = soup.find('a', {'itemprop':'name'})\n",
    "\n",
    "product_name.get_text()"
   ]
  },
  {
   "cell_type": "markdown",
   "metadata": {},
   "source": [
    "### Normal Price"
   ]
  },
  {
   "cell_type": "code",
   "execution_count": 30,
   "metadata": {},
   "outputs": [
    {
     "data": {
      "text/plain": [
       "'Rp. 890.000'"
      ]
     },
     "execution_count": 30,
     "metadata": {},
     "output_type": "execute_result"
    }
   ],
   "source": [
    "price = soup.find(\"span\", {\"class\":\"bmd-special-price\"})\n",
    "\n",
    "price.get_text().strip()"
   ]
  },
  {
   "cell_type": "code",
   "execution_count": 22,
   "metadata": {},
   "outputs": [
    {
     "data": {
      "text/plain": [
       "'890.000'"
      ]
     },
     "execution_count": 22,
     "metadata": {},
     "output_type": "execute_result"
    }
   ],
   "source": [
    "soup.find(\"span\",{\"class\":\"oe_currency_value\"}).get_text()"
   ]
  },
  {
   "cell_type": "markdown",
   "metadata": {},
   "source": [
    "### Installment Price"
   ]
  },
  {
   "cell_type": "code",
   "execution_count": 25,
   "metadata": {},
   "outputs": [],
   "source": [
    "installment_price = soup.find(\"span\", {\"class\":\"d-flex flex-column\"})\n",
    "installment_price"
   ]
  },
  {
   "cell_type": "code",
   "execution_count": 26,
   "metadata": {},
   "outputs": [
    {
     "data": {
      "text/plain": [
       "'Cicilan Rp. 70.750/bln'"
      ]
     },
     "execution_count": 26,
     "metadata": {},
     "output_type": "execute_result"
    }
   ],
   "source": [
    "soup.find(\"span\",{\"class\":\"bmd-installment\"}).get_text().strip()"
   ]
  },
  {
   "cell_type": "markdown",
   "metadata": {},
   "source": [
    "### Reviewer"
   ]
  },
  {
   "cell_type": "code",
   "execution_count": 29,
   "metadata": {},
   "outputs": [
    {
     "data": {
      "text/plain": [
       "'(0)'"
      ]
     },
     "execution_count": 29,
     "metadata": {},
     "output_type": "execute_result"
    }
   ],
   "source": [
    "soup.find(\"div\", {\"class\":\"bmd-product-rating\"}).get_text().strip()"
   ]
  },
  {
   "cell_type": "markdown",
   "metadata": {},
   "source": [
    "## Webscraping Dataframe"
   ]
  },
  {
   "cell_type": "markdown",
   "metadata": {},
   "source": [
    "**Trial 1**"
   ]
  },
  {
   "cell_type": "code",
   "execution_count": 78,
   "metadata": {},
   "outputs": [],
   "source": [
    "# url\n",
    "url = 'https://www.bhinneka.com/jual?page=1&cari=laptop&order='\n",
    "\n",
    "# access website\n",
    "driver.get(url)\n",
    "\n",
    "# fetch html element\n",
    "html = driver.page_source\n",
    "\n",
    "# parsing\n",
    "page = BeautifulSoup(html, 'html.parser')\n",
    "\n",
    "# create varibles to keep the value\n",
    "products = []\n",
    "prices = []\n",
    "installments = []\n",
    "reviewers = []\n",
    "stores = []\n",
    "\n",
    "# search for boxes\n",
    "boxes = page.find_all(\"div\", {\"class\": \"o_wsale_product_information position-relative d-flex flex-column flex-grow-1 flex-shrink-1\"})\n",
    "\n",
    "# get all the variable from each boxes\n",
    "for box in boxes:\n",
    "    # find all product\n",
    "    list_products = box.find('a', {'itemprop':'name'})\n",
    "    # add to empty list\n",
    "    for product in list_products:\n",
    "        products.append(product.get_text().strip())\n",
    "\n",
    "    # find all price\n",
    "    list_prices = box.find(\"span\",{\"class\":\"oe_currency_value\"})\n",
    "    # add to empty list\n",
    "    for price in list_prices:\n",
    "        prices.append(price.get_text().strip())\n",
    "\n",
    "    # find all installment\n",
    "    list_installments = box.find(\"span\",{\"class\":\"bmd-installment\"})\n",
    "    # add to empty list\n",
    "    for installment in list_installments:\n",
    "        installments.append(installment.get_text().strip())\n",
    "\n",
    "    # find all reviewer\n",
    "    list_reviewers = box.find_all(\"span\", {\"class\":\"bmd-installment\"})\n",
    "    reviewers.append(list_reviewers[2].get_text().strip())\n",
    "\n",
    "    # find all store\n",
    "    list_stores = box.find_all(\"span\", {\"class\":\"bmd-installment\"})\n",
    "    stores.append(list_reviewers[1].get_text().strip())\n",
    "\n"
   ]
  },
  {
   "cell_type": "code",
   "execution_count": 81,
   "metadata": {},
   "outputs": [
    {
     "data": {
      "text/html": [
       "<div>\n",
       "<style scoped>\n",
       "    .dataframe tbody tr th:only-of-type {\n",
       "        vertical-align: middle;\n",
       "    }\n",
       "\n",
       "    .dataframe tbody tr th {\n",
       "        vertical-align: top;\n",
       "    }\n",
       "\n",
       "    .dataframe thead th {\n",
       "        text-align: right;\n",
       "    }\n",
       "</style>\n",
       "<table border=\"1\" class=\"dataframe\">\n",
       "  <thead>\n",
       "    <tr style=\"text-align: right;\">\n",
       "      <th></th>\n",
       "      <th>nama produk</th>\n",
       "      <th>harga normal</th>\n",
       "      <th>harga cicilan</th>\n",
       "      <th>jumlah review</th>\n",
       "      <th>asal toko</th>\n",
       "    </tr>\n",
       "  </thead>\n",
       "  <tbody>\n",
       "    <tr>\n",
       "      <th>0</th>\n",
       "      <td>ORICO Notebook Laptop Holder Bracket LST-4A</td>\n",
       "      <td>890.000</td>\n",
       "      <td>Cicilan Rp. 70.750/bln</td>\n",
       "      <td>(0)</td>\n",
       "      <td>Jakarta Utara</td>\n",
       "    </tr>\n",
       "    <tr>\n",
       "      <th>1</th>\n",
       "      <td>DELL Business Notebook Vostro 3405 (Ryzen 5 35...</td>\n",
       "      <td>9.213.000</td>\n",
       "      <td>Cicilan Rp. 654.167/bln</td>\n",
       "      <td>(2)</td>\n",
       "      <td>Jakarta Utara</td>\n",
       "    </tr>\n",
       "    <tr>\n",
       "      <th>2</th>\n",
       "      <td>ASUS Notebook M415DAO-FHD321 Slate Grey</td>\n",
       "      <td>5.499.000</td>\n",
       "      <td>Cicilan Rp. 458.250/bln</td>\n",
       "      <td>(0)</td>\n",
       "      <td>Jakarta Utara</td>\n",
       "    </tr>\n",
       "    <tr>\n",
       "      <th>3</th>\n",
       "      <td>SitStand Laptop Stand Alumunium Premium Portab...</td>\n",
       "      <td>302.000</td>\n",
       "      <td>Cicilan Rp. 24.917/bln</td>\n",
       "      <td>(0)</td>\n",
       "      <td>Jakarta Utara</td>\n",
       "    </tr>\n",
       "    <tr>\n",
       "      <th>4</th>\n",
       "      <td>ORICO Adjustable Laptop Stand Metal PFB-A2 Silver</td>\n",
       "      <td>149.000</td>\n",
       "      <td>Cicilan Rp. 12.417/bln</td>\n",
       "      <td>(0)</td>\n",
       "      <td>Jakarta Utara</td>\n",
       "    </tr>\n",
       "  </tbody>\n",
       "</table>\n",
       "</div>"
      ],
      "text/plain": [
       "                                         nama produk harga normal  \\\n",
       "0        ORICO Notebook Laptop Holder Bracket LST-4A      890.000   \n",
       "1  DELL Business Notebook Vostro 3405 (Ryzen 5 35...    9.213.000   \n",
       "2            ASUS Notebook M415DAO-FHD321 Slate Grey    5.499.000   \n",
       "3  SitStand Laptop Stand Alumunium Premium Portab...      302.000   \n",
       "4  ORICO Adjustable Laptop Stand Metal PFB-A2 Silver      149.000   \n",
       "\n",
       "             harga cicilan jumlah review      asal toko  \n",
       "0   Cicilan Rp. 70.750/bln           (0)  Jakarta Utara  \n",
       "1  Cicilan Rp. 654.167/bln           (2)  Jakarta Utara  \n",
       "2  Cicilan Rp. 458.250/bln           (0)  Jakarta Utara  \n",
       "3   Cicilan Rp. 24.917/bln           (0)  Jakarta Utara  \n",
       "4   Cicilan Rp. 12.417/bln           (0)  Jakarta Utara  "
      ]
     },
     "execution_count": 81,
     "metadata": {},
     "output_type": "execute_result"
    }
   ],
   "source": [
    "data = pd.DataFrame({\n",
    "    'nama produk' : products,\n",
    "    'harga normal': prices,\n",
    "    'harga cicilan' : installments,\n",
    "    'jumlah review': reviewers,\n",
    "    'asal toko' : stores\n",
    "})\n",
    "\n",
    "data.head()"
   ]
  },
  {
   "cell_type": "markdown",
   "metadata": {},
   "source": [
    "**Trial Multipage**"
   ]
  },
  {
   "cell_type": "code",
   "execution_count": 86,
   "metadata": {},
   "outputs": [],
   "source": [
    "import time"
   ]
  },
  {
   "cell_type": "code",
   "execution_count": 87,
   "metadata": {},
   "outputs": [],
   "source": [
    "# create varibles to keep the value\n",
    "products = []\n",
    "prices = []\n",
    "installments = []\n",
    "reviewers = []\n",
    "stores = []\n",
    "\n",
    "# looping for several pages\n",
    "for page in range(1, 6):\n",
    "\n",
    "    # url\n",
    "    url = f'https://www.bhinneka.com/jual?page={page}&cari=laptop&order='\n",
    "\n",
    "    # access website\n",
    "    driver.get(url)\n",
    "\n",
    "    # delay\n",
    "    time.sleep(2)\n",
    "\n",
    "    # fetch html element\n",
    "    html = driver.page_source\n",
    "\n",
    "    # parsing\n",
    "    page = BeautifulSoup(html, 'html.parser')\n",
    "\n",
    "    # search for boxes\n",
    "    boxes = page.find_all(\"div\", {\"class\": \"o_wsale_product_information position-relative d-flex flex-column flex-grow-1 flex-shrink-1\"})\n",
    "\n",
    "    # get all the variable from each boxes\n",
    "    for box in boxes:\n",
    "\n",
    "        # trying to get product name \n",
    "        try:\n",
    "            # find all product\n",
    "            list_products = box.find('a', {'itemprop':'name'})\n",
    "            # add to empty list\n",
    "            for product in list_products:\n",
    "                products.append(product.get_text().strip())\n",
    "        except:\n",
    "            products.append(None)\n",
    "\n",
    "        # find all price\n",
    "        list_prices = box.find(\"span\",{\"class\":\"oe_currency_value\"})\n",
    "        # add to empty list\n",
    "        for price in list_prices:\n",
    "            prices.append(price.get_text().strip())\n",
    "\n",
    "        # find all installment\n",
    "        list_installments = box.find(\"span\",{\"class\":\"bmd-installment\"})\n",
    "        # add to empty list\n",
    "        for installment in list_installments:\n",
    "            installments.append(installment.get_text().strip())\n",
    "\n",
    "        # find all reviewer\n",
    "        list_reviewers = box.find_all(\"span\", {\"class\":\"bmd-installment\"})\n",
    "        reviewers.append(list_reviewers[2].get_text().strip())\n",
    "\n",
    "        # find all store\n",
    "        list_stores = box.find_all(\"span\", {\"class\":\"bmd-installment\"})\n",
    "        stores.append(list_stores[1].get_text().strip())\n",
    "\n",
    "\n"
   ]
  },
  {
   "cell_type": "code",
   "execution_count": 88,
   "metadata": {},
   "outputs": [
    {
     "name": "stdout",
     "output_type": "stream",
     "text": [
      "<class 'pandas.core.frame.DataFrame'>\n",
      "RangeIndex: 200 entries, 0 to 199\n",
      "Data columns (total 5 columns):\n",
      " #   Column         Non-Null Count  Dtype \n",
      "---  ------         --------------  ----- \n",
      " 0   nama produk    200 non-null    object\n",
      " 1   harga normal   200 non-null    object\n",
      " 2   harga cicilan  200 non-null    object\n",
      " 3   jumlah review  200 non-null    object\n",
      " 4   asal toko      200 non-null    object\n",
      "dtypes: object(5)\n",
      "memory usage: 7.9+ KB\n"
     ]
    }
   ],
   "source": [
    "data = pd.DataFrame({\n",
    "    'nama produk' : products,\n",
    "    'harga normal': prices,\n",
    "    'harga cicilan' : installments,\n",
    "    'jumlah review': reviewers,\n",
    "    'asal toko' : stores\n",
    "})\n",
    "\n",
    "data.info()"
   ]
  },
  {
   "cell_type": "markdown",
   "metadata": {},
   "source": [
    "**Final Code**"
   ]
  },
  {
   "cell_type": "code",
   "execution_count": 93,
   "metadata": {},
   "outputs": [],
   "source": [
    "# create varibles to keep the value\n",
    "products = []\n",
    "prices = []\n",
    "installments = []\n",
    "reviewers = []\n",
    "stores = []\n",
    "\n",
    "# looping for several pages\n",
    "for page in range(1, 3):\n",
    "\n",
    "    # url\n",
    "    url = f'https://www.bhinneka.com/jual?page={page}&cari=laptop&order='\n",
    "\n",
    "    # access website\n",
    "    driver.get(url)\n",
    "\n",
    "    # delay\n",
    "    time.sleep(2)\n",
    "\n",
    "    # fetch html element\n",
    "    html = driver.page_source\n",
    "\n",
    "    # parsing\n",
    "    page = BeautifulSoup(html, 'html.parser')\n",
    "\n",
    "    # search for boxes\n",
    "    boxes = page.find_all(\"div\", {\"class\": \"o_wsale_product_information position-relative d-flex flex-column flex-grow-1 flex-shrink-1\"})\n",
    "\n",
    "    # get all the variable from each boxes\n",
    "    for box in boxes:\n",
    "\n",
    "        # trying to get product name \n",
    "        try:\n",
    "            # find all product\n",
    "            product = box.find('a', {'itemprop':'name'})\n",
    "            # add to empty list\n",
    "            products.append(product.get_text().strip())\n",
    "        except:\n",
    "            products.append(None)\n",
    "\n",
    "        # trying to get the price\n",
    "        try:\n",
    "            # find all price\n",
    "            price = box.find(\"span\",{\"class\":\"oe_currency_value\"})\n",
    "            # add to empty list\n",
    "            prices.append(price.get_text().strip())\n",
    "        except:\n",
    "            prices.append(None)\n",
    "\n",
    "        # trying to get the installment price\n",
    "        try:\n",
    "            # find all installment\n",
    "            installment = box.find(\"span\",{\"class\":\"bmd-installment\"})\n",
    "            # add to empty list\n",
    "            installments.append(installment.get_text().strip())\n",
    "        except:\n",
    "            installments.append(None)\n",
    "\n",
    "        # trying to get the reviewer\n",
    "        try:\n",
    "            # find all reviewer\n",
    "            list_reviewers = box.find_all(\"span\", {\"class\":\"bmd-installment\"})\n",
    "            reviewers.append(list_reviewers[2].get_text().strip())\n",
    "        except:\n",
    "            reviewers.append(None)\n",
    "\n",
    "        # trying to get the store\n",
    "        try:\n",
    "            # find all store\n",
    "            list_stores = box.find_all(\"span\", {\"class\":\"bmd-installment\"})\n",
    "            stores.append(list_stores[1].get_text().strip())\n",
    "        except:\n",
    "            stores.append(None)\n",
    "\n",
    "# creating a dataframe\n",
    "data = pd.DataFrame({\n",
    "    'nama produk' : products,\n",
    "    'harga normal': prices,\n",
    "    'harga cicilan' : installments,\n",
    "    'jumlah review': reviewers,\n",
    "    'asal toko' : stores\n",
    "})\n"
   ]
  },
  {
   "cell_type": "code",
   "execution_count": 92,
   "metadata": {},
   "outputs": [
    {
     "data": {
      "text/html": [
       "<div>\n",
       "<style scoped>\n",
       "    .dataframe tbody tr th:only-of-type {\n",
       "        vertical-align: middle;\n",
       "    }\n",
       "\n",
       "    .dataframe tbody tr th {\n",
       "        vertical-align: top;\n",
       "    }\n",
       "\n",
       "    .dataframe thead th {\n",
       "        text-align: right;\n",
       "    }\n",
       "</style>\n",
       "<table border=\"1\" class=\"dataframe\">\n",
       "  <thead>\n",
       "    <tr style=\"text-align: right;\">\n",
       "      <th></th>\n",
       "      <th>nama produk</th>\n",
       "      <th>harga normal</th>\n",
       "      <th>harga cicilan</th>\n",
       "      <th>jumlah review</th>\n",
       "      <th>asal toko</th>\n",
       "    </tr>\n",
       "  </thead>\n",
       "  <tbody>\n",
       "    <tr>\n",
       "      <th>0</th>\n",
       "      <td>ORICO Notebook Laptop Holder Bracket LST-4A</td>\n",
       "      <td>890.000</td>\n",
       "      <td>Cicilan Rp. 70.750/bln</td>\n",
       "      <td>(0)</td>\n",
       "      <td>Jakarta Utara</td>\n",
       "    </tr>\n",
       "    <tr>\n",
       "      <th>1</th>\n",
       "      <td>SitStand Laptop Stand Alumunium Premium Portab...</td>\n",
       "      <td>302.000</td>\n",
       "      <td>Cicilan Rp. 24.917/bln</td>\n",
       "      <td>(0)</td>\n",
       "      <td>Jakarta Utara</td>\n",
       "    </tr>\n",
       "    <tr>\n",
       "      <th>2</th>\n",
       "      <td>DELL Business Notebook Vostro 3405 (Ryzen 5 35...</td>\n",
       "      <td>9.213.000</td>\n",
       "      <td>Cicilan Rp. 654.167/bln</td>\n",
       "      <td>(2)</td>\n",
       "      <td>Jakarta Utara</td>\n",
       "    </tr>\n",
       "    <tr>\n",
       "      <th>3</th>\n",
       "      <td>ASUS Notebook M415DAO-FHD321 Slate Grey</td>\n",
       "      <td>5.499.000</td>\n",
       "      <td>Cicilan Rp. 458.250/bln</td>\n",
       "      <td>(0)</td>\n",
       "      <td>Jakarta Utara</td>\n",
       "    </tr>\n",
       "    <tr>\n",
       "      <th>4</th>\n",
       "      <td>ORICO Adjustable Laptop Stand Metal PFB-A2 Silver</td>\n",
       "      <td>149.000</td>\n",
       "      <td>Cicilan Rp. 12.417/bln</td>\n",
       "      <td>(0)</td>\n",
       "      <td>Jakarta Utara</td>\n",
       "    </tr>\n",
       "  </tbody>\n",
       "</table>\n",
       "</div>"
      ],
      "text/plain": [
       "                                         nama produk harga normal  \\\n",
       "0        ORICO Notebook Laptop Holder Bracket LST-4A      890.000   \n",
       "1  SitStand Laptop Stand Alumunium Premium Portab...      302.000   \n",
       "2  DELL Business Notebook Vostro 3405 (Ryzen 5 35...    9.213.000   \n",
       "3            ASUS Notebook M415DAO-FHD321 Slate Grey    5.499.000   \n",
       "4  ORICO Adjustable Laptop Stand Metal PFB-A2 Silver      149.000   \n",
       "\n",
       "             harga cicilan jumlah review      asal toko  \n",
       "0   Cicilan Rp. 70.750/bln           (0)  Jakarta Utara  \n",
       "1   Cicilan Rp. 24.917/bln           (0)  Jakarta Utara  \n",
       "2  Cicilan Rp. 654.167/bln           (2)  Jakarta Utara  \n",
       "3  Cicilan Rp. 458.250/bln           (0)  Jakarta Utara  \n",
       "4   Cicilan Rp. 12.417/bln           (0)  Jakarta Utara  "
      ]
     },
     "execution_count": 92,
     "metadata": {},
     "output_type": "execute_result"
    }
   ],
   "source": [
    "data.head()"
   ]
  }
 ],
 "metadata": {
  "kernelspec": {
   "display_name": "Hacktiv8",
   "language": "python",
   "name": "python3"
  },
  "language_info": {
   "codemirror_mode": {
    "name": "ipython",
    "version": 3
   },
   "file_extension": ".py",
   "mimetype": "text/x-python",
   "name": "python",
   "nbconvert_exporter": "python",
   "pygments_lexer": "ipython3",
   "version": "3.11.4"
  }
 },
 "nbformat": 4,
 "nbformat_minor": 2
}
