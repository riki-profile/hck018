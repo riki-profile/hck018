{
 "cells": [
  {
   "cell_type": "markdown",
   "metadata": {},
   "source": [
    "## Non-Graded Challenge 2\n",
    "---"
   ]
  },
  {
   "cell_type": "markdown",
   "metadata": {},
   "source": [
    "1. Buatlah function `CekGenap()` dimana ketika list angka dimasukkan, akan mengembalikan nilai genap.\n",
    "\n",
    "contoh :\n",
    "- input `CekGenap([1,2,3,4,5,6])`\n",
    "- output `[2,4,6]`"
   ]
  },
  {
   "cell_type": "code",
   "execution_count": 1,
   "metadata": {},
   "outputs": [],
   "source": [
    "# create the function\n",
    "def CekGenap(list_angka):\n",
    "    # create empty list\n",
    "    output = []\n",
    "\n",
    "    # check the numbers\n",
    "    for angka in list_angka:\n",
    "\n",
    "        # check whether its a even or not\n",
    "        if angka % 2 == 0 :\n",
    "\n",
    "            # add to output list\n",
    "            output.append(angka)\n",
    "    \n",
    "    return output"
   ]
  },
  {
   "cell_type": "code",
   "execution_count": 4,
   "metadata": {},
   "outputs": [
    {
     "data": {
      "text/plain": [
       "[2, 4, 6, 8, 10, 12]"
      ]
     },
     "execution_count": 4,
     "metadata": {},
     "output_type": "execute_result"
    }
   ],
   "source": [
    "list_angka = [1,2,3,4,5,6, 8, 10 , 12]\n",
    "CekGenap(list_angka)"
   ]
  },
  {
   "cell_type": "markdown",
   "metadata": {},
   "source": [
    "2. Buatlah function `LuasSegitiga()`, mengembalikan nilai luas dari sebuah segitiga\n",
    "\n",
    "    - input : `LuasSegitiga(4, 6)`\n",
    "    - ouput : `12`"
   ]
  },
  {
   "cell_type": "code",
   "execution_count": 9,
   "metadata": {},
   "outputs": [],
   "source": [
    "def LuasSegitiga(alas, tinggi):\n",
    "    luas = (alas * tinggi)* 0.5\n",
    "    return luas"
   ]
  },
  {
   "cell_type": "code",
   "execution_count": 10,
   "metadata": {},
   "outputs": [
    {
     "data": {
      "text/plain": [
       "12.0"
      ]
     },
     "execution_count": 10,
     "metadata": {},
     "output_type": "execute_result"
    }
   ],
   "source": [
    "LuasSegitiga(4,6)"
   ]
  },
  {
   "cell_type": "markdown",
   "metadata": {},
   "source": [
    "3. Buatlah function `CekVokal()`, dimana mengembalikan jumlah huruf vokal pada sebuah string/kata\n",
    "\n",
    "    - input : `CekVokal(\"Makan\")`\n",
    "    - output : `2`"
   ]
  },
  {
   "cell_type": "code",
   "execution_count": 12,
   "metadata": {},
   "outputs": [],
   "source": [
    "def CekVokal(kata):\n",
    "    output = 0\n",
    "    for huruf in kata:\n",
    "        if huruf in 'aiueo':\n",
    "            output += 1\n",
    "    \n",
    "    return output\n"
   ]
  },
  {
   "cell_type": "code",
   "execution_count": 13,
   "metadata": {},
   "outputs": [
    {
     "data": {
      "text/plain": [
       "2"
      ]
     },
     "execution_count": 13,
     "metadata": {},
     "output_type": "execute_result"
    }
   ],
   "source": [
    "CekVokal('Makan')"
   ]
  }
 ],
 "metadata": {
  "kernelspec": {
   "display_name": "Hacktiv8",
   "language": "python",
   "name": "python3"
  },
  "language_info": {
   "codemirror_mode": {
    "name": "ipython",
    "version": 3
   },
   "file_extension": ".py",
   "mimetype": "text/x-python",
   "name": "python",
   "nbconvert_exporter": "python",
   "pygments_lexer": "ipython3",
   "version": "3.11.4"
  }
 },
 "nbformat": 4,
 "nbformat_minor": 2
}
